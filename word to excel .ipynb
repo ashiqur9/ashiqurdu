{
  "nbformat": 4,
  "nbformat_minor": 0,
  "metadata": {
    "colab": {
      "name": "Untitled6.ipynb",
      "provenance": [],
      "authorship_tag": "ABX9TyNvFFSnQNyRyhnjK6nUxGMF",
      "include_colab_link": true
    },
    "kernelspec": {
      "name": "python3",
      "display_name": "Python 3"
    }
  },
  "cells": [
    {
      "cell_type": "markdown",
      "metadata": {
        "id": "view-in-github",
        "colab_type": "text"
      },
      "source": [
        "<a href=\"https://colab.research.google.com/github/ashiqur9/ashiqurdu/blob/master/word%20to%20excel%20.ipynb\" target=\"_parent\"><img src=\"https://colab.research.google.com/assets/colab-badge.svg\" alt=\"Open In Colab\"/></a>"
      ]
    },
    {
      "cell_type": "code",
      "metadata": {
        "id": "X1xM66s9aI4z"
      },
      "source": [
        ""
      ],
      "execution_count": null,
      "outputs": []
    },
    {
      "cell_type": "code",
      "metadata": {
        "id": "nUxeXtQ3aP-C"
      },
      "source": [
        "s=\"\"\"Brings:এনেছে\n",
        "Mediocrity:মধ্যম অবস্থা\n",
        "Premise:প্রতিজ্ঞা\n",
        "Bland:স্নিগ্ধ\n",
        "Ingested:পাকস্থলিতে গ্রহণ\n",
        "Hippie:মাদকসেবী\n",
        "Norms:নিয়ম\n",
        "Scavenge:ময়লা সাফ\n",
        "Reconnaissance:পরিদর্শনকরণ\n",
        "Emperor:সম্রাট\n",
        "Abominable:জঘন্য\n",
        "Espouse:পক্ষাবলম্বন করা\n",
        "Endurable:সহনীয়\n",
        "Vacuous:শূন্য\n",
        "Whack:অংশ\n",
        "Muse:আবেশ\n",
        "Fixate:জমাট বাঁধা\n",
        "Numb:অসাড়\n",
        "Perpetuate:চিরস্থায়ী করা\n",
        "Superstition:কুসংস্কার\n",
        "Mediocre:মাঝারি\n",
        "Stumbled:পদস্খলিত\n",
        "Fallacy:হেত্বাভাস\n",
        "Instruct:শিখান\n",
        "Thereby:যার ফলে\n",
        "Inclination:বাঁক\n",
        "Intervene:হস্তক্ষেপ করা\n",
        "Urgency:চাড়া\n",
        "Utterly:একদম\n",
        "Crappy:ন্যক্কারজনক\n",
        "Spectacular:দর্শনীয়\n",
        "Promptly:শীঘ্র\n",
        "Resent:ক্ষতিকর মনে করা\n",
        "Pandemic:পৃথিবীব্যাপি\n",
        "Lead:লিড\n",
        "Born:স্বভাবসিদ্ধ\n",
        "Birth:জন্ম\"\"\""
      ],
      "execution_count": null,
      "outputs": []
    }
  ]
}